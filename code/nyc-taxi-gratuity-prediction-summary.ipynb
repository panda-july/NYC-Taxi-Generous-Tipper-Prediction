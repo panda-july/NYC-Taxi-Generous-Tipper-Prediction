{
 "cells": [
  {
   "cell_type": "markdown",
   "id": "0fe1eb4b",
   "metadata": {
    "_cell_guid": "b1076dfc-b9ad-4769-8c92-a6c4dae69d19",
    "_uuid": "8f2839f25d086af736a60e9eeb907d3b93b6e0e5",
    "papermill": {
     "duration": 0.001823,
     "end_time": "2025-04-25T07:15:28.016193",
     "exception": false,
     "start_time": "2025-04-25T07:15:28.014370",
     "status": "completed"
    },
    "tags": []
   },
   "source": [
    "## Summary\n",
    "\n",
    "### Issues\n",
    "* Not representative data. This dataset only had credit tip data, cash tip were not included. \n",
    "* Lack of data. This dataset didn't include tip percent feature, could not know the actual tip percent passengers . \n",
    "* Vendor 1 and Vendor 2 may have different way to round tip_amount, one vendor may round down to 0.05, another one may round  to 0.01. The calculated tip percent may different from passenger actual choice.\n",
    "\n",
    "|Vendor|tip_amount calculation(assumption)|Example|\n",
    "|:-|:-|:-|\n",
    "|Vendor1|round down to 0.05|2.075->2.05|\n",
    "|Vendor2|round to 0.01|5.575->5.58<BR/>1.825->1.82|\n",
    "\n",
    "### Model Results\n",
    "* When consider tip_amount calculation difference:\n",
    "    * Champion model:`rf_label1_cv14_hyp8_gs1`\n",
    "    * Model features: `RatecodeID`,`mean_trip_distance`, `mean_trip_duration`, `mean_trip_speed`,\n",
    "       `predict_fare_amount`, `PU_month`, `PU_weekday`,`PU_hour`\n",
    "    * Lack of important features, the model score was not good. `mean_trip_speed`, `mean_trip_distance`, `mean_trip_duration`,`predict_fare_amount` were relatively important features\n",
    "    * Limitation:\n",
    "        * Could only predict credit card trips\n",
    "    * Model assumptions:\n",
    "        * Two vendors only had two way to calculate tip_amount, round tip_amount to .01 or round down to .05.\n",
    "    * Model score:\n",
    "\n",
    "|score|precision|recall   |F1      |accuracy|ROC_AUC |\n",
    "|:-   |:-       |:-       |:-      |:-      |:-      |\n",
    "|train|0.786816 |0.844237 |0.814516|0.732109|0.747175|\n",
    "|val  |0.700602 |0.747429 |0.723259|0.601433|0.511623|\n",
    "|test |0.706255 |0.731867 |0.718833|0.601182|0.521098|\n",
    "\n",
    "\n",
    "* When not consider tip_amount calculation difference, if we could not use VendorID\n",
    "    * Champion model: `xgb_label3_cv14_hyp18_gs1`\n",
    "    * Model features: `RatecodeID`,`mean_trip_distance`, `mean_trip_duration`, `mean_trip_speed`,`predict_fare_amount`, `PU_month`, `PU_weekday`,`PU_hour`\n",
    "    * Lack of important features, the model score was not good. `mean_trip_distance`, `mean_trip_duration`, `mean_trip_speed`,`predict_fare_amount` were relatively important features\n",
    "    * Limitation:\n",
    "        * Could only predict credit card trips\n",
    "    * Model assumptions:\n",
    "        * Two vendors had the same way to calculate tip_amount\n",
    "        * Tip_percent which calculated from tip_amount could reflect the actual choice of passengers\n",
    "    * Model score:\t\t\t\n",
    "\n",
    "|score|precision|recall   |F1      |accuracy|ROC_AUC |\n",
    "|:-   |:-       |:-       |:-      |:-      |:-      |\n",
    "|train|0.704602 |0.782443 |0.741485|0.711838|0.784784|\n",
    "|val  |0.558140 |0.610169 |0.582996|0.538737|0.552162|\n",
    "|test |0.551646 |0.622075 |0.584748|0.53319 |0.540218|\n",
    "\n",
    "* When not consider tip_amount calculation difference, if we could use VendorID:\n",
    "    * Champion model:`rf_label3_cv16_hyp8_gs1`\n",
    "    * Model features: `RatecodeID`,`VendorID`,\n",
    "       `mean_trip_distance`, `mean_trip_duration`, `mean_trip_speed`,\n",
    "       `predict_fare_amount`, `PU_month`, `PU_weekday`,`PU_hour`\n",
    "    * `VendorID` was the most important feature, it might associated with tip amount calculation difference\n",
    "    * Limitation:\n",
    "        * Could only predict credit card trips\n",
    "    * Model assumptions:\n",
    "        * Two vendors had the same way to calculate tip_amount\n",
    "        * Tip_percent which calculated from tip_amount could reflect the actual choice of passengers\n",
    "    * Model score:\n",
    "\n",
    "|score|precision|recall   |F1      |accuracy|ROC_AUC |\n",
    "|:-   |:-       |:-       |:-      |:-      |:-      |\n",
    "|train|0.693943 |0.823579 |0.753224|0.714974|0.766781|\n",
    "|val  |0.711257 |0.824576 |0.763736|0.730408|0.741567|\n",
    "|test |0.683876 |0.821974 |0.746593|0.705187|0.71517 |\n",
    "\n",
    "\n",
    "### Recommendation\n",
    "* Not recommend to use this model\n",
    "    * Could only predict credit trips\n",
    "    * Lack of actual tip percent data, the estimated tip percent may different from actual tip percent\n",
    "    * Vendor was an important feature to predict whether a passenger will tip >=20% or not. However it may due to tip amount calculation difference, not associated with passengers.\n",
    "    * When consider tip amount calculation difference, lack of important features, model performance was not good\n",
    "* To get more reliable prediction result, could consider collect more features such as passenger actual tip choice, passenger group(e.g. age, income, why they take a taxi, actual passenger count, do they have luggage or bags, relationship of passengers, region, job), taxi info(e.g. accessible taxi or not, vehicle type, how old the vehicle, payment system Vendor, how many hours vehicle used per day, how often the vehicle will be cleaned), driver info(e.g. age, region, income, driving experience, full time/part time, information about breaking traffic laws, how long they drive per day, rent car/owner, work period(06:00-18:00)), cash tip data.\n",
    "* Unify tip calculation method to ensure all system providers will calculate tip amount in the same way [Licensing & Rules for\n",
    "Technology System Providers](https://www.nyc.gov/assets/tlc/downloads/pdf/rule_book_current_chapter_66.pdf)"
   ]
  }
 ],
 "metadata": {
  "kaggle": {
   "accelerator": "none",
   "dataSources": [
    {
     "sourceId": 235797558,
     "sourceType": "kernelVersion"
    },
    {
     "sourceId": 235853451,
     "sourceType": "kernelVersion"
    },
    {
     "sourceId": 235795948,
     "sourceType": "kernelVersion"
    }
   ],
   "isGpuEnabled": false,
   "isInternetEnabled": false,
   "language": "python",
   "sourceType": "notebook"
  },
  "kernelspec": {
   "display_name": "Python 3",
   "language": "python",
   "name": "python3"
  },
  "language_info": {
   "codemirror_mode": {
    "name": "ipython",
    "version": 3
   },
   "file_extension": ".py",
   "mimetype": "text/x-python",
   "name": "python",
   "nbconvert_exporter": "python",
   "pygments_lexer": "ipython3",
   "version": "3.11.11"
  },
  "papermill": {
   "default_parameters": {},
   "duration": 5.006159,
   "end_time": "2025-04-25T07:15:28.437284",
   "environment_variables": {},
   "exception": null,
   "input_path": "__notebook__.ipynb",
   "output_path": "__notebook__.ipynb",
   "parameters": {},
   "start_time": "2025-04-25T07:15:23.431125",
   "version": "2.6.0"
  }
 },
 "nbformat": 4,
 "nbformat_minor": 5
}
